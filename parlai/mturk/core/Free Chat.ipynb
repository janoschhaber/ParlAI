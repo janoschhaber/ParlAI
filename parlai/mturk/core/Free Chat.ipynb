{
 "cells": [
  {
   "cell_type": "code",
   "execution_count": 1,
   "metadata": {
    "collapsed": true
   },
   "outputs": [],
   "source": [
    "import os\n",
    "import re\n",
    "import json\n",
    "import time\n",
    "import datetime\n",
    "import numpy as np\n",
    "import seaborn as sns\n",
    "import pandas as pd\n",
    "import matplotlib.pyplot as plt\n",
    "from collections import defaultdict\n",
    "from nltk import word_tokenize\n",
    "from nltk.corpus import stopwords\n",
    "import string\n",
    "%matplotlib inline"
   ]
  },
  {
   "cell_type": "code",
   "execution_count": 2,
   "metadata": {
    "collapsed": true
   },
   "outputs": [],
   "source": [
    "stop = stopwords.words('english') + list(string.punctuation)"
   ]
  },
  {
   "cell_type": "code",
   "execution_count": 3,
   "metadata": {
    "collapsed": true
   },
   "outputs": [],
   "source": [
    "def get_seconds(time_str):\n",
    "    m, s = time_str.split(':')\n",
    "    return int(m) * 60 + int(s)\n",
    "\n",
    "def get_minutes(seconds):\n",
    "    return seconds/60\n",
    "\n",
    "def get_time_string(time_float):\n",
    "    return datetime.datetime.utcfromtimestamp(time_float).strftime('%M:%S')"
   ]
  },
  {
   "cell_type": "code",
   "execution_count": null,
   "metadata": {
    "collapsed": true
   },
   "outputs": [],
   "source": [
    "class Log:\n",
    "    def __init__(self, logfile):\n",
    "        self.game_id = logfile['game_id']\n",
    "        self.domain_id = logfile['domain_id']\n",
    "        self.agent_ids = list(logfile['disconnected'].keys())\n",
    "        self.agent_labels = logfile['agent_labels']\n",
    "        self.feedback = logfile['feedback']\n",
    "        self.rounds = self.load_rounds(logfile['rounds'])\n",
    "        self.score = self.calculate_score()\n",
    "        self.duration = self.calculate_duration()\n",
    "        self.domains = self.get_domains()\n",
    "        self.calculate_timestamps()\n",
    "\n",
    "    def load_rounds(self, game_rounds):\n",
    "        rounds = []\n",
    "        for round_data in game_rounds:\n",
    "            game_round = GameRound(round_data)\n",
    "            rounds.append(game_round)\n",
    "        return rounds\n",
    "\n",
    "    def calculate_score(self):\n",
    "        score = 0\n",
    "        for game_round in self.rounds:\n",
    "            score += game_round.score\n",
    "        return score\n",
    "    \n",
    "    def get_domains(self):\n",
    "        path = self.rounds[0].images[\"A\"][0][0].split(\"/\")[0]\n",
    "        return [domain for domain in path.split(\"_\")]\n",
    "\n",
    "    def calculate_timestamps(self):\n",
    "        start_time = self.rounds[0].messages[0].timestamp\n",
    "        for game_round in self.rounds:\n",
    "            for mesage in game_round.messages:\n",
    "                mesage.timestamp = datetime.datetime.utcfromtimestamp(mesage.timestamp - start_time)\n",
    "\n",
    "    def calculate_duration(self):\n",
    "        start_time = self.rounds[0].messages[0].timestamp\n",
    "        end_time = self.rounds[-1].messages[-1].timestamp\n",
    "        return get_time_string(end_time - start_time)\n",
    "\n",
    "\n",
    "class GameRound:\n",
    "    def __init__(self, logfile_entry):\n",
    "        self.round_nr = logfile_entry['round_nr']+1\n",
    "        self.images = logfile_entry['images']\n",
    "        self.score = self.calculate_score(logfile_entry['score'])\n",
    "        self.messages = self.load_messages(logfile_entry['messages'])\n",
    "        self.num_messages = self.count_text_messages()\n",
    "        self.duration = self.calculate_duration()\n",
    "\n",
    "    def load_messages(self, message_list):\n",
    "        messages = []\n",
    "        message_id = 0\n",
    "        for message_data in message_list:\n",
    "            message = Message(message_data, message_id)\n",
    "            messages.append(message)\n",
    "            message_id += 1\n",
    "        return messages\n",
    "\n",
    "    def calculate_score(self, score_dict):\n",
    "        score = 0\n",
    "        for player_score in score_dict.values():\n",
    "            score += player_score\n",
    "        return score\n",
    "    \n",
    "    def count_text_messages(self):\n",
    "        count = 0\n",
    "        for message in self.messages:\n",
    "            if message.type == \"text\":\n",
    "                count += 1\n",
    "        return count\n",
    "\n",
    "    def calculate_duration(self):\n",
    "        start_time = self.messages[0].timestamp\n",
    "        end_time = self.messages[-1].timestamp\n",
    "        return get_time_string(end_time - start_time)\n",
    "\n",
    "class Message:\n",
    "    def __init__(self, logfile_message, message_id):\n",
    "        self.message_id = message_id\n",
    "        self.agent_id = logfile_message['agent_id']\n",
    "        self.agent_label = logfile_message['agent_label']\n",
    "        self.text = logfile_message['message']\n",
    "        self.speaker = logfile_message['speaker']\n",
    "        self.timestamp = logfile_message['timestamp']\n",
    "        self.turn = logfile_message['turn']\n",
    "        self.type = self.determine_message_type()\n",
    "        \n",
    "    def determine_message_type(self):\n",
    "        if not self.text.startswith(\"<\"):\n",
    "            return \"text\"\n",
    "        else:\n",
    "            return re.findall(r'<(.*?)>', self.text)[0]"
   ]
  },
  {
   "cell_type": "code",
   "execution_count": null,
   "metadata": {},
   "outputs": [],
   "source": [
    "def load_logs(filepath=\"logs/free_chat\"):\n",
    "    print(\"Loading logs from {}\".format(filepath))\n",
    "    logs = []\n",
    "    for root, dirs, files in os.walk(filepath):\n",
    "        for file in files:\n",
    "            if file.endswith(\".json\"):\n",
    "                # print(\"Loading {}\".format(os.path.join(root, file)))\n",
    "                with open(os.path.join(root, file), 'r') as logfile:\n",
    "                    log = Log(json.load(logfile))\n",
    "                    logs.append(log)\n",
    "\n",
    "    print(\"Complete. Loaded {} logs.\".format(len(logs)))\n",
    "    return logs\n",
    "\n",
    "\n",
    "def get_messages(log, split=False, print_selections=True):\n",
    "    message_list = []\n",
    "    if len(log.rounds) != 5:\n",
    "        print(\"Conversation was not completed.\")\n",
    "        return []\n",
    "    for game_round in log.rounds:\n",
    "        round_messages = []\n",
    "        for message in game_round.messages:\n",
    "            if message.type == 'text' or (print_selections and message.type == 'selection') :   \n",
    "                round_messages.append((message.timestamp, message.speaker, message.text))\n",
    "\n",
    "        if split:\n",
    "            message_list.append(round_messages)\n",
    "        else:\n",
    "            message_list.extend(round_messages)\n",
    "    return message_list\n",
    "\n",
    "\n",
    "def print_conversation(log, split=False, print_selections=True):\n",
    "    message_list = get_messages(log, split, print_selections)\n",
    "    \n",
    "    print(log.game_id)\n",
    "    print(\"Player A: {}\".format(log.agent_ids[0]))\n",
    "    print(\"Player B: {}\".format(log.agent_ids[1]))\n",
    "    \n",
    "    \n",
    "    if split:\n",
    "        for i, round_messages in enumerate(message_list):\n",
    "            print(\"- - Round {} - -\".format(i+1))\n",
    "            print_messages(round_messages)\n",
    "    else:\n",
    "        print_messages(message_list)\n",
    "        \n",
    "#     print(log.feedback)\n",
    "\n",
    "\n",
    "def print_messages(message_list):\n",
    "    for message in message_list:\n",
    "        timestamp = message[0].strftime('%M:%S')\n",
    "        print(\"[{}] {}: {}\".format(timestamp, message[1], message[2]))\n",
    "\n",
    "\n",
    "def print_game_statistics(log):\n",
    "    print(\"\\n- - Game statistics - -\")\n",
    "    print(\"Duration: {} min. Score: {}/30 points.\".format(log.duration, log.score))\n",
    "    for i, game_round in enumerate(log.rounds):\n",
    "        print(\"[Round {}] Duration: {} min. Score: {}/6 points. Number of messages: {}.\".format(i, game_round.duration, game_round.score, game_round.num_messages))"
   ]
  },
  {
   "cell_type": "code",
   "execution_count": null,
   "metadata": {
    "collapsed": true
   },
   "outputs": [],
   "source": [
    "def collect_dataset(logs):\n",
    "    labels = [\"Game_ID\", \"Game_Domain_ID\", \"Game_Domain_1\", \"Game_Domain_2\", \"Game_Duration\", \"Game_Score\", \"Game_Feedback_A\", \"Game_Feedback_B\", \\\n",
    "              \"Round_Nr\", \"Round_Duration\", \"Round_Scores\", \"Round_Images_A\", \"Round_Images_B\", \\\n",
    "              \"Message_Nr\", \"Message_Timestamp\", \"Message_Turn\", \"Message_Agent_ID\", \"Message_Agent_Label\", \\\n",
    "              \"Message_Speaker\", \"Message_Type\", \"Message_Text\"]\n",
    "    dataset = []\n",
    "    for log in logs:\n",
    "        game_data = [log.game_id, log.domain_id, log.domains[0], log.domains[1], get_seconds(log.duration), log.score, log.feedback[\"A\"], log.feedback[\"B\"]]\n",
    "        for game_round in log.rounds:\n",
    "            round_data = [game_round.round_nr, get_seconds(game_round.duration), game_round.score, game_round.images[\"A\"], game_round.images[\"B\"]]\n",
    "            for message in game_round.messages:\n",
    "                message_data = [message.message_id, message.timestamp, message.turn, message.agent_id, message.agent_label, \\\n",
    "                                message.speaker, message.type, message.text] \n",
    "                dataset.append(game_data + round_data + message_data)\n",
    "                \n",
    "    df = pd.DataFrame(dataset, columns=labels)\n",
    "                \n",
    "    return df "
   ]
  },
  {
   "cell_type": "code",
   "execution_count": null,
   "metadata": {
    "collapsed": true
   },
   "outputs": [],
   "source": [
    "path = \"logs/free_chat\""
   ]
  },
  {
   "cell_type": "code",
   "execution_count": null,
   "metadata": {
    "scrolled": true
   },
   "outputs": [],
   "source": [
    "logs = load_logs(path)\n",
    "nr_logs = len(logs)\n",
    "for i, log in enumerate(logs):\n",
    "    print(\"\\n- - Game {} - -\".format(i+1))\n",
    "    print_conversation(log, split=True, print_selections=True)\n",
    "    \n",
    "    print_game_statistics(log)"
   ]
  },
  {
   "cell_type": "code",
   "execution_count": null,
   "metadata": {
    "scrolled": false
   },
   "outputs": [],
   "source": [
    "dataset = collect_dataset(logs)\n",
    "dataset.columns"
   ]
  },
  {
   "cell_type": "code",
   "execution_count": null,
   "metadata": {
    "collapsed": true
   },
   "outputs": [],
   "source": [
    "dataset.to_csv('conversations.csv', index = False)"
   ]
  },
  {
   "cell_type": "code",
   "execution_count": null,
   "metadata": {
    "collapsed": true
   },
   "outputs": [],
   "source": [
    "dataset.to_pickle('conversations.pickle')"
   ]
  },
  {
   "cell_type": "code",
   "execution_count": null,
   "metadata": {},
   "outputs": [],
   "source": [
    "game_times = dataset.groupby('Game_ID').mean()['Game_Duration']\n",
    "game_times_list = [get_minutes(duration) for duration in list(game_times)]\n",
    "print(game_times_list)"
   ]
  },
  {
   "cell_type": "code",
   "execution_count": null,
   "metadata": {},
   "outputs": [],
   "source": [
    "print(np.mean(game_times_list))"
   ]
  },
  {
   "cell_type": "code",
   "execution_count": null,
   "metadata": {},
   "outputs": [],
   "source": [
    "plt.hist(game_times_list, bins=np.linspace(5,20,15), weights=np.zeros_like(game_times_list) + 100. / len(game_times_list))  # arguments are passed to np.histogram\n",
    "plt.title(\"Distribution of Game Durations\")\n",
    "plt.xlabel(\"Duration in min\")\n",
    "plt.ylabel(\"% of the completed Games\")\n",
    "plt.draw()\n",
    "ax = plt.gca()\n",
    "xticks = [str(label.get_text())+\" min\" for label in ax.get_xticklabels()][1:-1]\n",
    "ax.set_xticklabels = xticks\n",
    "plt.draw()\n",
    "plt.show()"
   ]
  },
  {
   "cell_type": "code",
   "execution_count": null,
   "metadata": {
    "collapsed": true
   },
   "outputs": [],
   "source": [
    "games_df = dataset.groupby('Game_ID')"
   ]
  },
  {
   "cell_type": "code",
   "execution_count": null,
   "metadata": {
    "collapsed": true
   },
   "outputs": [],
   "source": [
    "game_statistics = defaultdict(lambda: (defaultdict(lambda: [])))\n",
    "\n",
    "for game_df in games_df:\n",
    "#     print(\"Game {}\".format(game_df[0]))\n",
    "    rounds_df = game_df[1].groupby('Round_Nr')\n",
    "    for round_df in rounds_df:\n",
    "#         print(\"Round {}\".format(round_df[0]))\n",
    "        player_data_df = round_df[1].groupby('Message_Agent_ID')\n",
    "        token_sum = 0\n",
    "        message_sum = 0\n",
    "        for player_df in player_data_df:\n",
    "            \n",
    "            messages = player_df[1].loc[player_df[1]['Message_Type'] == 'text']\n",
    "            message_list = messages['Message_Text'].tolist()\n",
    "            no_tokens = 0\n",
    "            for m in message_list:\n",
    "                tokens = [i for i in word_tokenize(m.lower()) if i not in stop]\n",
    "#                 print(tokens)\n",
    "#                 print(len(tokens))\n",
    "                no_tokens += len(tokens)\n",
    "            token_sum += no_tokens\n",
    "            message_sum += len(message_list)\n",
    "#             print(\"Agent {} used {} tokens in {} messages.\".format(player_df[0], no_tokens, len(message_list)))\n",
    "            \n",
    "        game_statistics[\"tokens\"][round_df[0]].append(token_sum)\n",
    "        game_statistics[\"messages\"][round_df[0]].append(message_sum)\n",
    "        game_statistics[\"duration\"][round_df[0]].append(round_df[1].mean()[\"Round_Duration\"])\n",
    "#         print(\"Total tokens: {}. Total messages: {}. Duration: {}\".format(token_sum, message_sum, get_time_string(round_df[1].mean()[\"Round_Duration\"])))\n",
    "#     print(\"\\n-------\\n\")\n",
    "   "
   ]
  },
  {
   "cell_type": "code",
   "execution_count": null,
   "metadata": {
    "collapsed": true
   },
   "outputs": [],
   "source": [
    "def plot_game_data(mu, sigma, t, title, x_label, y_label, filename=None):\n",
    "    fig, ax = plt.subplots(1, figsize=(10,6))\n",
    "    ax.plot(t, mu, lw=2, label='mean population 1', color='blue')\n",
    "    ax.fill_between(t, mu+sigma, mu-sigma, facecolor='blue', alpha=0.3)\n",
    "    ax.set_title(title)\n",
    "    ax.set_xlabel(x_label)\n",
    "    ax.set_ylabel(y_label)\n",
    "    ax.set_xticks(t)\n",
    "    ax.grid()\n",
    "    fig.show()\n",
    "    if filename:\n",
    "        fig.savefig(filename, bbox_inches='tight')"
   ]
  },
  {
   "cell_type": "code",
   "execution_count": null,
   "metadata": {
    "scrolled": false
   },
   "outputs": [],
   "source": [
    "data_array = np.empty([5, nr_logs])\n",
    "\n",
    "for round_nr, token_counts in game_statistics[\"tokens\"].items():    \n",
    "    print(\"Round {}: Token counts {}\".format(round_nr, token_counts))\n",
    "    data_array[round_nr-1] = token_counts\n",
    "    \n",
    "mu = data_array.mean(axis=1)\n",
    "sigma = data_array.std(axis=1)\n",
    "t = np.arange(1, 6, 1)\n",
    "\n",
    "title = 'Average number of Word Tokens per Game Round'\n",
    "x_label = 'Game Round'\n",
    "y_label = 'Total number of Word Tokens (both Speakers)'\n",
    "filename = 'tokens.pdf'\n",
    "\n",
    "\n",
    "plot_game_data(mu, sigma, t, title, x_label, y_label, filename)"
   ]
  },
  {
   "cell_type": "code",
   "execution_count": null,
   "metadata": {},
   "outputs": [],
   "source": [
    "data_array = np.empty([5, nr_logs])\n",
    "\n",
    "for round_nr, token_counts in game_statistics[\"messages\"].items():    \n",
    "    print(\"Round {}: Message counts {}\".format(round_nr, token_counts))\n",
    "    data_array[round_nr-1] = token_counts\n",
    "    \n",
    "mu = data_array.mean(axis=1)\n",
    "sigma = data_array.std(axis=1)\n",
    "t = np.arange(1, 6, 1)\n",
    "\n",
    "title = 'Average number of Messages per Game Round'\n",
    "x_label = 'Game Round'\n",
    "y_label = 'Total number of Messages (both Speakers)'\n",
    "filename = 'messages.pdf'\n",
    "\n",
    "\n",
    "plot_game_data(mu, sigma, t, title, x_label, y_label, filename)"
   ]
  },
  {
   "cell_type": "code",
   "execution_count": null,
   "metadata": {},
   "outputs": [],
   "source": [
    "data_array = np.empty([5, nr_logs])\n",
    "\n",
    "for round_nr, token_counts in game_statistics[\"duration\"].items():    \n",
    "    print(\"Round {}: Duration {}\".format(round_nr, token_counts))\n",
    "    data_array[round_nr-1] = token_counts\n",
    "    \n",
    "mu = data_array.mean(axis=1)\n",
    "sigma = data_array.std(axis=1)\n",
    "t = np.arange(1, 6, 1)\n",
    "\n",
    "title = 'Average duration per Game Round in seconds'\n",
    "x_label = 'Game Round'\n",
    "y_label = 'Total Round duration in seconds'\n",
    "filename = 'duration.pdf'\n",
    "\n",
    "\n",
    "plot_game_data(mu, sigma, t, title, x_label, y_label, filename)"
   ]
  },
  {
   "cell_type": "code",
   "execution_count": null,
   "metadata": {},
   "outputs": [],
   "source": [
    "for game_id, game_df in games_df:\n",
    "    selections = game_df.loc[game_df['Message_Type'] == 'selection']['Message_Text']\n",
    "    sel_images = [elements.split()[2] for elements in selections]\n",
    "    print(len(set(sel_images)))"
   ]
  },
  {
   "cell_type": "code",
   "execution_count": null,
   "metadata": {
    "collapsed": true
   },
   "outputs": [],
   "source": []
  },
  {
   "cell_type": "code",
   "execution_count": null,
   "metadata": {
    "collapsed": true
   },
   "outputs": [],
   "source": []
  }
 ],
 "metadata": {
  "kernelspec": {
   "display_name": "Python 3",
   "language": "python",
   "name": "python3"
  },
  "language_info": {
   "codemirror_mode": {
    "name": "ipython",
    "version": 3
   },
   "file_extension": ".py",
   "mimetype": "text/x-python",
   "name": "python",
   "nbconvert_exporter": "python",
   "pygments_lexer": "ipython3",
   "version": "3.6.2"
  }
 },
 "nbformat": 4,
 "nbformat_minor": 2
}
