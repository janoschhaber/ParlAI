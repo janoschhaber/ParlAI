{
 "cells": [
  {
   "cell_type": "code",
   "execution_count": 1,
   "metadata": {
    "collapsed": true
   },
   "outputs": [],
   "source": [
    "import os\n",
    "import re\n",
    "import json\n",
    "import time\n",
    "import datetime\n",
    "import numpy as np\n",
    "import seaborn as sns\n",
    "import pandas as pd\n",
    "import matplotlib.pyplot as plt\n",
    "from collections import defaultdict\n",
    "from nltk import word_tokenize\n",
    "from nltk.corpus import stopwords\n",
    "import string\n",
    "%matplotlib inline"
   ]
  },
  {
   "cell_type": "code",
   "execution_count": 2,
   "metadata": {
    "collapsed": true
   },
   "outputs": [],
   "source": [
    "stop = stopwords.words('english') + list(string.punctuation)"
   ]
  },
  {
   "cell_type": "code",
   "execution_count": 3,
   "metadata": {
    "collapsed": true
   },
   "outputs": [],
   "source": [
    "def get_seconds(time_str):\n",
    "    m, s = time_str.split(':')\n",
    "    return int(m) * 60 + int(s)\n",
    "\n",
    "def get_minutes(seconds):\n",
    "    return seconds/60\n",
    "\n",
    "def get_time_string(time_float):\n",
    "    return datetime.datetime.utcfromtimestamp(time_float).strftime('%M:%S')"
   ]
  },
  {
   "cell_type": "code",
   "execution_count": 4,
   "metadata": {
    "collapsed": true
   },
   "outputs": [],
   "source": [
    "class Log:\n",
    "    def __init__(self, logfile):\n",
    "        self.game_id = logfile['game_id']\n",
    "        self.domain_id = logfile['domain_id']\n",
    "        self.agent_ids = list(logfile['disconnected'].keys())\n",
    "        self.agent_labels = logfile['agent_labels']\n",
    "        self.feedback = logfile['feedback']\n",
    "        self.rounds = self.load_rounds(logfile['rounds'])\n",
    "        self.score = self.calculate_score()\n",
    "        self.duration = self.calculate_duration()\n",
    "        self.domains = self.get_domains()\n",
    "        self.calculate_timestamps()\n",
    "\n",
    "    def load_rounds(self, game_rounds):\n",
    "        rounds = []\n",
    "        for round_data in game_rounds:\n",
    "            game_round = GameRound(round_data)\n",
    "            rounds.append(game_round)\n",
    "        return rounds\n",
    "\n",
    "    def calculate_score(self):\n",
    "        score = 0\n",
    "        for game_round in self.rounds:\n",
    "            score += game_round.score\n",
    "        return score\n",
    "    \n",
    "    def get_domains(self):\n",
    "        path = self.rounds[0].images[\"A\"][0][0].split(\"/\")[0]\n",
    "        return [domain for domain in path.split(\"_\")]\n",
    "\n",
    "    def calculate_timestamps(self):\n",
    "        start_time = self.rounds[0].messages[0].timestamp\n",
    "        for game_round in self.rounds:\n",
    "            for mesage in game_round.messages:\n",
    "                mesage.timestamp = datetime.datetime.utcfromtimestamp(mesage.timestamp - start_time)\n",
    "\n",
    "    def calculate_duration(self):\n",
    "        start_time = self.rounds[0].messages[0].timestamp\n",
    "        end_time = self.rounds[-1].messages[-1].timestamp\n",
    "        return get_time_string(end_time - start_time)\n",
    "\n",
    "\n",
    "class GameRound:\n",
    "    def __init__(self, logfile_entry):\n",
    "        self.round_nr = logfile_entry['round_nr']+1\n",
    "        self.images = logfile_entry['images']\n",
    "        self.score = self.calculate_score(logfile_entry['score'])\n",
    "        self.messages = self.load_messages(logfile_entry['messages'])\n",
    "        self.num_messages = self.count_text_messages()\n",
    "        self.duration = self.calculate_duration()\n",
    "\n",
    "    def load_messages(self, message_list):\n",
    "        messages = []\n",
    "        message_id = 0\n",
    "        for message_data in message_list:\n",
    "            message = Message(message_data, message_id)\n",
    "            messages.append(message)\n",
    "            message_id += 1\n",
    "        return messages\n",
    "\n",
    "    def calculate_score(self, score_dict):\n",
    "        score = 0\n",
    "        for player_score in score_dict.values():\n",
    "            score += player_score\n",
    "        return score\n",
    "    \n",
    "    def count_text_messages(self):\n",
    "        count = 0\n",
    "        for message in self.messages:\n",
    "            if message.type == \"text\":\n",
    "                count += 1\n",
    "        return count\n",
    "\n",
    "    def calculate_duration(self):\n",
    "        start_time = self.messages[0].timestamp\n",
    "        end_time = self.messages[-1].timestamp\n",
    "        return get_time_string(end_time - start_time)\n",
    "\n",
    "class Message:\n",
    "    def __init__(self, logfile_message, message_id):\n",
    "        self.message_id = message_id\n",
    "        self.agent_id = logfile_message['agent_id']\n",
    "        self.agent_label = logfile_message['agent_label']\n",
    "        self.text = logfile_message['message']\n",
    "        self.speaker = logfile_message['speaker']\n",
    "        self.timestamp = logfile_message['timestamp']\n",
    "        self.turn = logfile_message['turn']\n",
    "        self.type = self.determine_message_type()\n",
    "        \n",
    "    def determine_message_type(self):\n",
    "        if not self.text.startswith(\"<\"):\n",
    "            return \"text\"\n",
    "        else:\n",
    "            return re.findall(r'<(.*?)>', self.text)[0]"
   ]
  },
  {
   "cell_type": "code",
   "execution_count": 5,
   "metadata": {
    "collapsed": true
   },
   "outputs": [],
   "source": [
    "def load_logs(filepath=\"logs/free_chat\"):\n",
    "    print(\"Loading logs from {}\".format(filepath))\n",
    "    logs = []\n",
    "    for root, dirs, files in os.walk(filepath):\n",
    "        for file in files:\n",
    "            if file.endswith(\".json\"):\n",
    "                # print(\"Loading {}\".format(os.path.join(root, file)))\n",
    "                with open(os.path.join(root, file), 'r') as logfile:\n",
    "                    log = Log(json.load(logfile))\n",
    "                    logs.append(log)\n",
    "\n",
    "    print(\"Complete. Loaded {} logs.\".format(len(logs)))\n",
    "    return logs\n",
    "\n",
    "\n",
    "def get_messages(log, split=False, print_selections=True):\n",
    "    message_list = []\n",
    "    if len(log.rounds) != 5:\n",
    "        print(\"Conversation was not completed.\")\n",
    "        return []\n",
    "    for game_round in log.rounds:\n",
    "        round_messages = []\n",
    "        for message in game_round.messages:\n",
    "            if message.type == 'text' or (print_selections and message.type == 'selection') :   \n",
    "                round_messages.append((message.timestamp, message.speaker, message.text))\n",
    "\n",
    "        if split:\n",
    "            message_list.append(round_messages)\n",
    "        else:\n",
    "            message_list.extend(round_messages)\n",
    "    return message_list\n",
    "\n",
    "\n",
    "def print_conversation(log, split=False, print_selections=True):\n",
    "    message_list = get_messages(log, split, print_selections)\n",
    "    \n",
    "    print(log.game_id)\n",
    "    print(\"Player A: {}\".format(log.agent_ids[0]))\n",
    "    print(\"Player B: {}\".format(log.agent_ids[1]))\n",
    "    \n",
    "    \n",
    "    if split:\n",
    "        for i, round_messages in enumerate(message_list):\n",
    "            print(\"- - Round {} - -\".format(i+1))\n",
    "            print_messages(round_messages)\n",
    "    else:\n",
    "        print_messages(message_list)\n",
    "        \n",
    "#     print(log.feedback)\n",
    "\n",
    "\n",
    "def print_messages(message_list):\n",
    "    for message in message_list:\n",
    "        timestamp = message[0].strftime('%M:%S')\n",
    "        print(\"[{}] {}: {}\".format(timestamp, message[1], message[2]))\n",
    "\n",
    "\n",
    "def print_game_statistics(log):\n",
    "    print(\"\\n- - Game statistics - -\")\n",
    "    print(\"Duration: {} min. Score: {}/30 points.\".format(log.duration, log.score))\n",
    "    for i, game_round in enumerate(log.rounds):\n",
    "        print(\"[Round {}] Duration: {} min. Score: {}/6 points. Number of messages: {}.\".format(i, game_round.duration, game_round.score, game_round.num_messages))"
   ]
  },
  {
   "cell_type": "code",
   "execution_count": 6,
   "metadata": {
    "collapsed": true
   },
   "outputs": [],
   "source": [
    "def collect_dataset(logs):\n",
    "    labels = [\"Game_ID\", \"Game_Domain_ID\", \"Game_Domain_1\", \"Game_Domain_2\", \"Game_Duration\", \"Game_Score\", \"Game_Feedback_A\", \"Game_Feedback_B\", \\\n",
    "              \"Round_Nr\", \"Round_Duration\", \"Round_Scores\", \"Round_Images_A\", \"Round_Images_B\", \\\n",
    "              \"Message_Nr\", \"Message_Timestamp\", \"Message_Turn\", \"Message_Agent_ID\", \"Message_Agent_Label\", \\\n",
    "              \"Message_Speaker\", \"Message_Type\", \"Message_Text\"]\n",
    "    dataset = []\n",
    "    for log in logs:\n",
    "        game_data = [log.game_id, log.domain_id, log.domains[0], log.domains[1], get_seconds(log.duration), log.score, log.feedback[\"A\"], log.feedback[\"B\"]]\n",
    "        for game_round in log.rounds:\n",
    "            round_data = [game_round.round_nr, get_seconds(game_round.duration), game_round.score, game_round.images[\"A\"], game_round.images[\"B\"]]\n",
    "            for message in game_round.messages:\n",
    "                message_data = [message.message_id, message.timestamp, message.turn, message.agent_id, message.agent_label, \\\n",
    "                                message.speaker, message.type, message.text] \n",
    "                dataset.append(game_data + round_data + message_data)\n",
    "                \n",
    "    df = pd.DataFrame(dataset, columns=labels)\n",
    "                \n",
    "    return df "
   ]
  },
  {
   "cell_type": "code",
   "execution_count": 7,
   "metadata": {
    "collapsed": true
   },
   "outputs": [],
   "source": [
    "path = \"logs/turn_based\""
   ]
  },
  {
   "cell_type": "code",
   "execution_count": 8,
   "metadata": {
    "scrolled": true
   },
   "outputs": [
    {
     "name": "stdout",
     "output_type": "stream",
     "text": [
      "Loading logs from logs/turn_based\n",
      "Complete. Loaded 2 logs.\n",
      "\n",
      "- - Game 1 - -\n",
      "3ERMJ6L4DZQ36IGG08C5LFQHJGGM7J3HPZF4IVNNR9CG0QAS8RVW52T2UYCP\n",
      "Player A: A2R9OK4M877ZCC\n",
      "Player B: A2ORPKVJKI0EIO\n",
      "- - Round 1 - -\n",
      "[00:00] A: A red tablecloth with a teapot, teacup, and cake\n",
      "[00:29] B: a baby with a white birthday cake with orange icing\n",
      "[00:49] A: Yes, not one of my highlighted ones though.\n",
      "[00:54] B: <selection> <com> cake_dining_table/COCO_train2014_000000126144.jpg\n",
      "[01:10] B: a godiva box with a half eaten peice of chocolate cake\n",
      "[01:23] A: No\n",
      "[01:32] B: <selection> <dif> cake_dining_table/COCO_train2014_000000381996.jpg\n",
      "[01:49] B: chocolate cake with vanilla ice cream in a bowl with chocolate drizzle on the bowl\n",
      "[01:54] A: Yes\n",
      "[02:27] B: a bunch of plates on a brown wooden table with a plate of chocolate cake with a knife and a fork on\n",
      "[02:33] A: No\n",
      "[02:37] B: <selection> <dif> cake_dining_table/COCO_train2014_000000501718.jpg\n",
      "[02:43] B: submitted\n",
      "[02:48] A: <selection> <dif> cake_dining_table/COCO_train2014_000000392943.jpg\n",
      "[02:49] A: <selection> <dif> cake_dining_table/COCO_train2014_000000322720.jpg\n",
      "[02:51] A: <selection> <dif> cake_dining_table/COCO_train2014_000000152914.jpg\n",
      "[02:56] A: A guy taking a picture of a red cake. He's wearing a red shirt\n",
      "[03:06] B: no that was all of mine\n",
      "[03:10] A: Got it\n",
      "[04:49] B: did you submite\n",
      "- - Round 2 - -\n",
      "[05:11] A: I have that Godiva box one\n",
      "[05:26] B: I have the same pictures you described last time\n",
      "[05:35] A: <selection> <com> cake_dining_table/COCO_train2014_000000322720.jpg\n",
      "[05:39] A: A cake with powdered sugar, a banana, and a strawberry, on a white plate\n",
      "[06:00] B: a white cake on a rainbow cloth with a person holding a big knife over it\n",
      "[06:14] A: No\n",
      "[07:18] B: <selection> <dif> cake_dining_table/COCO_train2014_000000322720.jpg\n",
      "[07:19] B: <selection> <dif> cake_dining_table/COCO_train2014_000000134599.jpg\n",
      "[07:22] B: <selection> <dif> cake_dining_table/COCO_train2014_000000392943.jpg\n",
      "[07:33] B: all mine are the ones you had i submitted\n",
      "[07:52] A: You have the Godiva box?\n",
      "[08:17] B: no thats what i had last time\n",
      "[08:20] A: <selection> <dif> cake_dining_table/COCO_train2014_000000381996.jpg\n",
      "[08:35] A: And do you have the cake with powdered sugar, a banana, and a strawberry, on a white plate?\n",
      "[08:49] B: no. they switched our screens from last round\n",
      "[08:53] A: <selection> <dif> cake_dining_table/COCO_train2014_000000152914.jpg\n",
      "[08:56] A: <selection> <com> cake_dining_table/COCO_train2014_000000322720.jpg\n",
      "- - Round 3 - -\n",
      "[10:01] A: Are we only supposed to determine if the highlighted pictures are the same?\n",
      "[10:24] B: yes because there is no way to select the picture.. that was confusing\n",
      "[10:40] A: Ok, first picture: A guy taking a picture of a red cake. He's wearing a red shirt\n",
      "[11:26] B: nope. Godiva box, fruit with powdered sugar cake, and a fork on a red napkin with a chocolate cake \n",
      "[12:00] A: Not highligted for me. Let's do it this way: whoever speaks first, describe their picture.\n",
      "[12:38] B: <selection> <dif> cake_dining_table/COCO_train2014_000000381996.jpg\n",
      "[12:41] B: <selection> <dif> cake_dining_table/COCO_train2014_000000152914.jpg\n",
      "[12:42] B: <selection> <dif> cake_dining_table/COCO_train2014_000000222244.jpg\n",
      "[12:57] B: I just named my highlighted pics\n",
      "[12:57] A: <selection> <dif> cake_dining_table/COCO_train2014_000000322720.jpg\n",
      "[13:17] A: <selection> <com> cake_dining_table/COCO_train2014_000000222244.jpg\n",
      "[13:19] A: <selection> <com> cake_dining_table/COCO_train2014_000000152914.jpg\n",
      "[13:39] A: Got it. I have the second two you said. Not the first one.\n",
      "[14:00] B: <selection> <com> cake_dining_table/COCO_train2014_000000152914.jpg\n",
      "[14:04] B: <selection> <com> cake_dining_table/COCO_train2014_000000222244.jpg\n",
      "[14:15] B: submitted\n",
      "- - Round 4 - -\n",
      "[15:17] A: 1 Chocolate cake, red napkin, silver fork. 2 White cake on rainbow cloth, 3 red tablecloth, teapot\n",
      "[16:02] B: <selection> <com> cake_dining_table/COCO_train2014_000000134599.jpg\n",
      "[16:07] B: <selection> <com> cake_dining_table/COCO_train2014_000000392943.jpg\n",
      "[16:09] B: <selection> <dif> cake_dining_table/COCO_train2014_000000322720.jpg\n",
      "[16:15] B: submitted\n",
      "[16:32] A: I need to know if you have any of those highlighted.\n",
      "[16:52] B: I had the white cake rainbow cloth, red tablecloth teapot\n",
      "[16:55] A: <selection> <com> cake_dining_table/COCO_train2014_000000134599.jpg\n",
      "[17:01] A: <selection> <com> cake_dining_table/COCO_train2014_000000392943.jpg\n",
      "[17:02] A: <selection> <dif> cake_dining_table/COCO_train2014_000000222244.jpg\n",
      "- - Round 5 - -\n",
      "[17:55] A: 1-White cake, rainbow cloth; 2-Chocolate cake, red napkin, silver fork; 3-cake w/powder sugar, frui\n",
      "[18:34] B: <selection> <com> cake_dining_table/COCO_train2014_000000134599.jpg\n",
      "[18:39] B: <selection> <com> cake_dining_table/COCO_train2014_000000222244.jpg\n",
      "[18:43] B: <selection> <dif> cake_dining_table/COCO_train2014_000000392943.jpg\n",
      "[18:52] B: I have the first two you mentioned. Submitted\n",
      "[18:57] A: <selection> <com> cake_dining_table/COCO_train2014_000000134599.jpg\n",
      "[18:59] A: <selection> <com> cake_dining_table/COCO_train2014_000000222244.jpg\n",
      "[19:00] A: <selection> <dif> cake_dining_table/COCO_train2014_000000152914.jpg\n",
      "[19:07] A: Submitted\n",
      "[19:25] B: have a great day\n",
      "[19:30] A: You too.\n",
      "\n",
      "- - Game statistics - -\n",
      "Duration: 19:34 min. Score: 28/30 points.\n",
      "[Round 0] Duration: 04:52 min. Score: 6/6 points. Number of messages: 14.\n",
      "[Round 1] Duration: 04:34 min. Score: 5/6 points. Number of messages: 10.\n",
      "[Round 2] Duration: 04:22 min. Score: 5/6 points. Number of messages: 8.\n",
      "[Round 3] Duration: 01:51 min. Score: 6/6 points. Number of messages: 4.\n",
      "[Round 4] Duration: 01:39 min. Score: 6/6 points. Number of messages: 5.\n",
      "\n",
      "- - Game 2 - -\n",
      "3W8CV64QJ3XLSN3YO8UC769RXK5H9H37FMASSAYDP4CBTFSAQTYO5WLYNIBN\n",
      "Player A: A3LRSX7ECYPSF4\n",
      "Player B: A11THU6UGG3THR\n",
      "- - Round 1 - -\n",
      "[00:00] A: Okay, I have a bearded old man holding a black camera by a tractor cake.\n",
      "[00:12] B: No, I don't have anything like that.\n",
      "[00:25] A: Okay, I will mark as different. Your turn.\n",
      "[00:51] B: Some kind of round cake sprinkled with sugar on a rectangular plate with fruit.\n",
      "[00:51] A: <selection> <dif> cake_dining_table/COCO_train2014_000000322720.jpg\n",
      "[01:14] A: Is there a strawberry on the right, and a gravy-boat looking thing that's white?\n",
      "[01:24] B: Yes, that's right.\n",
      "[01:40] A: Okay, I will mark as common. Your turn.\n",
      "[01:40] B: <selection> <com> cake_dining_table/COCO_train2014_000000152914.jpg\n",
      "[02:23] B: A bite of chocolate cake and a fork in front of a box that says \"Godiva\".\n",
      "[02:23] A: <selection> <com> cake_dining_table/COCO_train2014_000000152914.jpg\n",
      "[03:06] A: Is the box gold, and is the plate flowered? My Godiva box is open and the fork is dirty.\n",
      "[03:26] B: Yes, that sounds right. I'll mark it \"common\".\n",
      "[04:09] A: Okay, next up, I have chocolate cake with white filling next to a mauve napkin and a fork.\n",
      "[04:09] B: <selection> <com> cake_dining_table/COCO_train2014_000000381996.jpg\n",
      "[04:48] B: Yes, I have one like that. The tines of the fork are pointing to the bottom left.\n",
      "[05:15] A: Yes, I will mark it as common and submit.\n",
      "[05:20] B: <selection> <com> cake_dining_table/COCO_train2014_000000222244.jpg\n",
      "[05:50] B: Okay, I'll submit too.\n",
      "[05:50] A: <selection> <com> cake_dining_table/COCO_train2014_000000222244.jpg\n",
      "- - Round 2 - -\n",
      "[06:35] A: I have the gold Godiva box with chocolate cake and a fork in front of it. The plate is flowered.\n",
      "[06:49] B: I don't have that one this time.\n",
      "[07:01] A: I will mark as different. Your turn.\n",
      "[07:21] B: The bearded man with a camera looking at a cake with trailers on it.\n",
      "[07:21] A: <selection> <dif> cake_dining_table/COCO_train2014_000000381996.jpg\n",
      "[07:47] A: Is there a vase with red flowers by a window on the left?\n",
      "[07:56] B: Yes there is.\n",
      "[08:10] A: I will mark it as common. Your turn.\n",
      "[08:13] B: <selection> <com> cake_dining_table/COCO_train2014_000000322720.jpg\n",
      "[08:40] B: A white cake on a purple, green, yellow and red striped tablecloth.\n",
      "[08:40] A: <selection> <com> cake_dining_table/COCO_train2014_000000322720.jpg\n",
      "[08:58] A: I do not have this image at all.\n",
      "[09:11] B: <selection> <dif> cake_dining_table/COCO_train2014_000000134599.jpg\n",
      "[09:21] B: Okay, I'll mark it different. Your turn.\n",
      "[10:09] A: I have the rectangular white plate with powdered sugar cake again, with the gravy boat.\n",
      "[10:20] B: I don't have that this time. \n",
      "[10:35] A: Okay, I will mark it as different and submit.\n",
      "[10:57] B: A slice of pound cake on a red flowered tablecloth with a teacup and teapot.\n",
      "[10:57] A: <selection> <dif> cake_dining_table/COCO_train2014_000000152914.jpg\n",
      "[11:21] A: Opps, I'm sorry, I did not have that image\n",
      "[11:24] B: <selection> <dif> cake_dining_table/COCO_train2014_000000392943.jpg\n",
      "[11:36] B: Okay, I'll mark it as different and submit.\n",
      "[12:20] A: Okay, I will wait until we proceed to the next page.\n",
      "- - Round 3 - -\n",
      "[13:00] A: I have chocolate cake with white filling next to a mauve napkin and fork again.\n",
      "[13:13] B: Yes, I have it too. Marking it \"common\". \n",
      "[13:16] A: <selection> <com> cake_dining_table/COCO_train2014_000000222244.jpg\n",
      "[13:42] A: I also have the powdered sugar cake with the strawberry and gravy boat again, on a white rectangle.\n",
      "[13:42] B: <selection> <com> cake_dining_table/COCO_train2014_000000222244.jpg\n",
      "[14:00] B: No, I don't have that one this time either.\n",
      "[14:14] A: <selection> <dif> cake_dining_table/COCO_train2014_000000152914.jpg\n",
      "[14:17] A: I will mark this one different. Your turn.\n",
      "[14:35] B: I have the white cake on a striped tablecloth again. There's a spoon on the left.\n",
      "[15:00] A: Is there a weird yellow light shooting from the right side?\n",
      "[15:52] B: Yes, there's bright light shining on the top of the cake. The sides have vertical ridges.\n",
      "[16:18] A: Yes, I have that. I am marking it as common.\n",
      "[16:20] B: <selection> <com> cake_dining_table/COCO_train2014_000000134599.jpg\n",
      "[16:27] B: Okay, your turn.\n",
      "[16:27] A: <selection> <com> cake_dining_table/COCO_train2014_000000134599.jpg\n",
      "[16:48] A: I am ready to submit and go to the next page. Are you?\n",
      "[17:15] B: I have the cake on a red flowered tablecloth with a teapot and teacup again too.\n",
      "[19:23] A: Are the candles on your cake lit? And the cup on the left is on a mauve and white squares napkin?.\n",
      "[19:53] B: No, it's just a slice of cake, no candles. There's sugar sprinkled on it.\n",
      "[20:06] A: I do not have this image.\n",
      "[20:10] B: <selection> <dif> cake_dining_table/COCO_train2014_000000392943.jpg\n",
      "[20:18] B: Okay, I'll mark it different and submit.\n",
      "[20:42] A: I have submitted, also. On to the next page.\n",
      "- - Round 4 - -\n",
      "[21:39] A: I have a messy piece of cake next to a brown teapot and a white delicate teacup.\n",
      "[22:01] B: I don't have that image.\n",
      "[22:16] A: I will mark it as different. Your turn.\n",
      "[22:42] B: I have the bite of chocolate cake with the dirty fork in front of the Godiva box again.\n",
      "[22:42] A: <selection> <dif> cake_dining_table/COCO_train2014_000000392943.jpg\n",
      "[23:10] A: I do not have that image this time around.\n",
      "[23:15] B: <selection> <dif> cake_dining_table/COCO_train2014_000000381996.jpg\n",
      "[23:24] B: Okay, I'll mark it different. Your turn.\n",
      "[23:51] A: I have the old man with the camera and the tractor cake again. There is a vase with red flowers.\n",
      "[24:08] B: I don't have that one this time.\n",
      "[24:11] A: <selection> <dif> cake_dining_table/COCO_train2014_000000322720.jpg\n",
      "[24:36] A: I am marking it as different. Your turn.\n",
      "[25:23] B: A woman holding a toddler who is looking at a large white cake with orange lettering on it.\n",
      "[25:39] A: i have it, BUT it is not marked on mine.\n",
      "[26:11] B: I think I should mark it common in that case.\n",
      "[26:44] A: Okay, next I have the rectangluar white plate with the powdered sugar cake and gravy boat again.\n",
      "[26:44] B: <selection> <com> cake_dining_table/COCO_train2014_000000126144.jpg\n",
      "[27:04] B: I don't have that image this time at all.\n",
      "[27:07] A: <selection> <dif> cake_dining_table/COCO_train2014_000000152914.jpg\n",
      "[27:25] A: Okay, I will mark it different and click submit when you are ready.\n",
      "[28:00] B: I also have a half-eaten slice of chocolate cake on a plate with a fork and knife.\n",
      "[28:22] A: Can you give me a little more detail, please?\n",
      "[28:41] B: There is a plate with an ice cream sundae behind and to the right of it.\n",
      "[28:53] A: I do not have that.\n",
      "[28:57] B: <selection> <dif> cake_dining_table/COCO_train2014_000000501718.jpg\n",
      "[29:04] B: Okay, I'm marking it different and submitting.\n",
      "[29:32] A: okay, I submitted. I think we might be done? If so, it was nice playing!\n",
      "- - Round 5 - -\n",
      "[30:37] A: Guess not! I have the chocolate cake with white filling, next to a mauve napkin and fork again.\n",
      "[30:58] B: I don't have that image this time.\n",
      "[31:11] A: I will mark it as different. Your turn.\n",
      "[31:28] B: I have the white cake on the striped tablecloth with the weird light again.\n",
      "[31:28] A: <selection> <dif> cake_dining_table/COCO_train2014_000000222244.jpg\n",
      "[31:40] A: I have that, also. I will mark it as common.\n",
      "[31:43] B: <selection> <com> cake_dining_table/COCO_train2014_000000134599.jpg\n",
      "[32:03] B: I also have the messy slice of cake on a table with the brown teapot and white teacup.\n",
      "[32:03] A: <selection> <com> cake_dining_table/COCO_train2014_000000134599.jpg\n",
      "[32:25] A: Is the tablecloth red with flowers on it?\n",
      "[32:30] B: Yes it is.\n",
      "[32:45] A: Okay, I will mark it as common. \n",
      "[32:46] B: <selection> <com> cake_dining_table/COCO_train2014_000000392943.jpg\n",
      "[33:10] B: I have the old bearded man photographing the trailer cake again, too.\n",
      "[33:10] A: <selection> <com> cake_dining_table/COCO_train2014_000000392943.jpg\n",
      "[33:22] A: I do not have that this time.\n",
      "[33:25] B: <selection> <dif> cake_dining_table/COCO_train2014_000000322720.jpg\n",
      "[33:35] B: Okay, I'm marking it different. Your turn.\n",
      "[33:46] A: I am ready to submit.\n",
      "[33:59] B: Okay, me too. I think we're done now!\n",
      "[34:08] A: Have a nice day!\n",
      "[34:16] B: You too!\n",
      "\n",
      "- - Game statistics - -\n",
      "Duration: 34:50 min. Score: 30/30 points.\n",
      "[Round 0] Duration: 05:57 min. Score: 6/6 points. Number of messages: 14.\n",
      "[Round 1] Duration: 05:51 min. Score: 6/6 points. Number of messages: 17.\n",
      "[Round 2] Duration: 07:55 min. Score: 6/6 points. Number of messages: 17.\n",
      "[Round 3] Duration: 08:25 min. Score: 6/6 points. Number of messages: 21.\n",
      "[Round 4] Duration: 04:12 min. Score: 6/6 points. Number of messages: 16.\n"
     ]
    }
   ],
   "source": [
    "logs = load_logs(path)\n",
    "nr_logs = len(logs)\n",
    "for i, log in enumerate(logs):\n",
    "    print(\"\\n- - Game {} - -\".format(i+1))\n",
    "    print_conversation(log, split=True, print_selections=True)\n",
    "    \n",
    "    print_game_statistics(log)"
   ]
  },
  {
   "cell_type": "code",
   "execution_count": 9,
   "metadata": {
    "scrolled": false
   },
   "outputs": [
    {
     "data": {
      "text/plain": [
       "Index(['Game_ID', 'Game_Domain_ID', 'Game_Domain_1', 'Game_Domain_2',\n",
       "       'Game_Duration', 'Game_Score', 'Game_Feedback_A', 'Game_Feedback_B',\n",
       "       'Round_Nr', 'Round_Duration', 'Round_Scores', 'Round_Images_A',\n",
       "       'Round_Images_B', 'Message_Nr', 'Message_Timestamp', 'Message_Turn',\n",
       "       'Message_Agent_ID', 'Message_Agent_Label', 'Message_Speaker',\n",
       "       'Message_Type', 'Message_Text'],\n",
       "      dtype='object')"
      ]
     },
     "execution_count": 9,
     "metadata": {},
     "output_type": "execute_result"
    }
   ],
   "source": [
    "dataset = collect_dataset(logs)\n",
    "dataset.columns"
   ]
  },
  {
   "cell_type": "code",
   "execution_count": 10,
   "metadata": {
    "collapsed": true
   },
   "outputs": [],
   "source": [
    "dataset.to_csv('conversations.csv', index = False)"
   ]
  },
  {
   "cell_type": "code",
   "execution_count": 11,
   "metadata": {
    "collapsed": true
   },
   "outputs": [],
   "source": [
    "dataset.to_pickle('conversations.pickle')"
   ]
  },
  {
   "cell_type": "code",
   "execution_count": 12,
   "metadata": {},
   "outputs": [
    {
     "name": "stdout",
     "output_type": "stream",
     "text": [
      "[19.566666666666666, 34.833333333333336]\n"
     ]
    }
   ],
   "source": [
    "game_times = dataset.groupby('Game_ID').mean()['Game_Duration']\n",
    "game_times_list = [get_minutes(duration) for duration in list(game_times)]\n",
    "print(game_times_list)"
   ]
  },
  {
   "cell_type": "code",
   "execution_count": 13,
   "metadata": {},
   "outputs": [
    {
     "name": "stdout",
     "output_type": "stream",
     "text": [
      "27.2\n"
     ]
    }
   ],
   "source": [
    "print(np.mean(game_times_list))"
   ]
  },
  {
   "cell_type": "code",
   "execution_count": 14,
   "metadata": {},
   "outputs": [
    {
     "data": {
      "image/png": "[encoded data removed]",
      "text/plain": [
       "<matplotlib.figure.Figure at 0x7f4a5c6f05c0>"
      ]
     },
     "metadata": {},
     "output_type": "display_data"
    }
   ],
   "source": [
    "plt.hist(game_times_list, bins=np.linspace(15,35,20), weights=np.zeros_like(game_times_list) + 100. / len(game_times_list))  # arguments are passed to np.histogram\n",
    "plt.title(\"Distribution of Game Durations\")\n",
    "plt.xlabel(\"Duration in min\")\n",
    "plt.ylabel(\"% of the completed Games\")\n",
    "plt.draw()\n",
    "ax = plt.gca()\n",
    "xticks = [str(label.get_text())+\" min\" for label in ax.get_xticklabels()][1:-1]\n",
    "ax.set_xticklabels = xticks\n",
    "plt.draw()\n",
    "plt.show()"
   ]
  },
  {
   "cell_type": "code",
   "execution_count": 15,
   "metadata": {
    "collapsed": true
   },
   "outputs": [],
   "source": [
    "games_df = dataset.groupby('Game_ID')"
   ]
  },
  {
   "cell_type": "code",
   "execution_count": 16,
   "metadata": {
    "collapsed": true
   },
   "outputs": [],
   "source": [
    "game_statistics = defaultdict(lambda: (defaultdict(lambda: [])))\n",
    "\n",
    "for game_df in games_df:\n",
    "#     print(\"Game {}\".format(game_df[0]))\n",
    "    rounds_df = game_df[1].groupby('Round_Nr')\n",
    "    for round_df in rounds_df:\n",
    "#         print(\"Round {}\".format(round_df[0]))\n",
    "        player_data_df = round_df[1].groupby('Message_Agent_ID')\n",
    "        token_sum = 0\n",
    "        message_sum = 0\n",
    "        for player_df in player_data_df:\n",
    "            \n",
    "            messages = player_df[1].loc[player_df[1]['Message_Type'] == 'text']\n",
    "            message_list = messages['Message_Text'].tolist()\n",
    "            no_tokens = 0\n",
    "            for m in message_list:\n",
    "                tokens = [i for i in word_tokenize(m.lower()) if i not in stop]\n",
    "#                 print(tokens)\n",
    "#                 print(len(tokens))\n",
    "                no_tokens += len(tokens)\n",
    "            token_sum += no_tokens\n",
    "            message_sum += len(message_list)\n",
    "#             print(\"Agent {} used {} tokens in {} messages.\".format(player_df[0], no_tokens, len(message_list)))\n",
    "            \n",
    "        game_statistics[\"tokens\"][round_df[0]].append(token_sum)\n",
    "        game_statistics[\"messages\"][round_df[0]].append(message_sum)\n",
    "        game_statistics[\"duration\"][round_df[0]].append(round_df[1].mean()[\"Round_Duration\"])\n",
    "#         print(\"Total tokens: {}. Total messages: {}. Duration: {}\".format(token_sum, message_sum, get_time_string(round_df[1].mean()[\"Round_Duration\"])))\n",
    "#     print(\"\\n-------\\n\")\n",
    "   "
   ]
  },
  {
   "cell_type": "code",
   "execution_count": 17,
   "metadata": {
    "collapsed": true
   },
   "outputs": [],
   "source": [
    "def plot_game_data(mu, sigma, t, title, x_label, y_label, filename=None):\n",
    "    fig, ax = plt.subplots(1, figsize=(10,6))\n",
    "    ax.plot(t, mu, lw=2, label='mean population 1', color='blue')\n",
    "    ax.fill_between(t, mu+sigma, mu-sigma, facecolor='blue', alpha=0.3)\n",
    "    ax.set_title(title)\n",
    "    ax.set_xlabel(x_label)\n",
    "    ax.set_ylabel(y_label)\n",
    "    ax.set_xticks(t)\n",
    "    ax.grid()\n",
    "    fig.show()\n",
    "    if filename:\n",
    "        fig.savefig(filename, bbox_inches='tight')"
   ]
  },
  {
   "cell_type": "code",
   "execution_count": 18,
   "metadata": {
    "scrolled": false
   },
   "outputs": [
    {
     "name": "stdout",
     "output_type": "stream",
     "text": [
      "Round 1: Token counts [56, 90]\n",
      "Round 2: Token counts [41, 80]\n",
      "Round 3: Token counts [52, 95]\n",
      "Round 4: Token counts [27, 108]\n",
      "Round 5: Token counts [21, 60]\n"
     ]
    },
    {
     "name": "stderr",
     "output_type": "stream",
     "text": [
      "/home/janosch/anaconda3/lib/python3.6/site-packages/matplotlib/figure.py:403: UserWarning: matplotlib is currently using a non-GUI backend, so cannot show the figure\n",
      "  \"matplotlib is currently using a non-GUI backend, \"\n"
     ]
    },
    {
     "data": {
      "image/png": "[encoded data removed]",
      "text/plain": [
       "<matplotlib.figure.Figure at 0x7f4a56b8a668>"
      ]
     },
     "metadata": {},
     "output_type": "display_data"
    }
   ],
   "source": [
    "data_array = np.empty([5, nr_logs])\n",
    "\n",
    "for round_nr, token_counts in game_statistics[\"tokens\"].items():    \n",
    "    print(\"Round {}: Token counts {}\".format(round_nr, token_counts))\n",
    "    data_array[round_nr-1] = token_counts\n",
    "    \n",
    "mu = data_array.mean(axis=1)\n",
    "sigma = data_array.std(axis=1)\n",
    "t = np.arange(1, 6, 1)\n",
    "\n",
    "title = 'Average number of Word Tokens per Game Round'\n",
    "x_label = 'Game Round'\n",
    "y_label = 'Total number of Word Tokens (both Speakers)'\n",
    "filename = 'tokens.pdf'\n",
    "\n",
    "\n",
    "plot_game_data(mu, sigma, t, title, x_label, y_label, filename)"
   ]
  },
  {
   "cell_type": "code",
   "execution_count": 19,
   "metadata": {},
   "outputs": [
    {
     "name": "stdout",
     "output_type": "stream",
     "text": [
      "Round 1: Message counts [14, 14]\n",
      "Round 2: Message counts [10, 17]\n",
      "Round 3: Message counts [8, 17]\n",
      "Round 4: Message counts [4, 21]\n",
      "Round 5: Message counts [5, 16]\n"
     ]
    },
    {
     "name": "stderr",
     "output_type": "stream",
     "text": [
      "/home/janosch/anaconda3/lib/python3.6/site-packages/matplotlib/figure.py:403: UserWarning: matplotlib is currently using a non-GUI backend, so cannot show the figure\n",
      "  \"matplotlib is currently using a non-GUI backend, \"\n"
     ]
    },
    {
     "data": {
      "image/png": "[encoded data removed]",
      "text/plain": [
       "<matplotlib.figure.Figure at 0x7f4a56ace128>"
      ]
     },
     "metadata": {},
     "output_type": "display_data"
    }
   ],
   "source": [
    "data_array = np.empty([5, nr_logs])\n",
    "\n",
    "for round_nr, token_counts in game_statistics[\"messages\"].items():    \n",
    "    print(\"Round {}: Message counts {}\".format(round_nr, token_counts))\n",
    "    data_array[round_nr-1] = token_counts\n",
    "    \n",
    "mu = data_array.mean(axis=1)\n",
    "sigma = data_array.std(axis=1)\n",
    "t = np.arange(1, 6, 1)\n",
    "\n",
    "title = 'Average number of Messages per Game Round'\n",
    "x_label = 'Game Round'\n",
    "y_label = 'Total number of Messages (both Speakers)'\n",
    "filename = 'messages.pdf'\n",
    "\n",
    "\n",
    "plot_game_data(mu, sigma, t, title, x_label, y_label, filename)"
   ]
  },
  {
   "cell_type": "code",
   "execution_count": 20,
   "metadata": {},
   "outputs": [
    {
     "name": "stdout",
     "output_type": "stream",
     "text": [
      "Round 1: Duration [292.0, 357.0]\n",
      "Round 2: Duration [274.0, 351.0]\n",
      "Round 3: Duration [262.0, 475.0]\n",
      "Round 4: Duration [111.0, 505.0]\n",
      "Round 5: Duration [99.0, 252.0]\n"
     ]
    },
    {
     "name": "stderr",
     "output_type": "stream",
     "text": [
      "/home/janosch/anaconda3/lib/python3.6/site-packages/matplotlib/figure.py:403: UserWarning: matplotlib is currently using a non-GUI backend, so cannot show the figure\n",
      "  \"matplotlib is currently using a non-GUI backend, \"\n"
     ]
    },
    {
     "data": {
      "image/png": "[encoded data removed]",
      "text/plain": [
       "<matplotlib.figure.Figure at 0x7f4a5c642390>"
      ]
     },
     "metadata": {},
     "output_type": "display_data"
    }
   ],
   "source": [
    "data_array = np.empty([5, nr_logs])\n",
    "\n",
    "for round_nr, token_counts in game_statistics[\"duration\"].items():    \n",
    "    print(\"Round {}: Duration {}\".format(round_nr, token_counts))\n",
    "    data_array[round_nr-1] = token_counts\n",
    "    \n",
    "mu = data_array.mean(axis=1)\n",
    "sigma = data_array.std(axis=1)\n",
    "t = np.arange(1, 6, 1)\n",
    "\n",
    "title = 'Average duration per Game Round in seconds'\n",
    "x_label = 'Game Round'\n",
    "y_label = 'Total Round duration in seconds'\n",
    "filename = 'duration.pdf'\n",
    "\n",
    "\n",
    "plot_game_data(mu, sigma, t, title, x_label, y_label, filename)"
   ]
  },
  {
   "cell_type": "code",
   "execution_count": 21,
   "metadata": {},
   "outputs": [
    {
     "name": "stdout",
     "output_type": "stream",
     "text": [
      "8\n",
      "8\n"
     ]
    }
   ],
   "source": [
    "for game_id, game_df in games_df:\n",
    "    selections = game_df.loc[game_df['Message_Type'] == 'selection']['Message_Text']\n",
    "    sel_images = [elements.split()[2] for elements in selections]\n",
    "    print(len(set(sel_images)))"
   ]
  },
  {
   "cell_type": "code",
   "execution_count": null,
   "metadata": {
    "collapsed": true
   },
   "outputs": [],
   "source": []
  },
  {
   "cell_type": "code",
   "execution_count": null,
   "metadata": {
    "collapsed": true
   },
   "outputs": [],
   "source": []
  }
 ],
 "metadata": {
  "kernelspec": {
   "display_name": "Python 3",
   "language": "python",
   "name": "python3"
  },
  "language_info": {
   "codemirror_mode": {
    "name": "ipython",
    "version": 3
   },
   "file_extension": ".py",
   "mimetype": "text/x-python",
   "name": "python",
   "nbconvert_exporter": "python",
   "pygments_lexer": "ipython3",
   "version": "3.6.2"
  }
 },
 "nbformat": 4,
 "nbformat_minor": 2
}
